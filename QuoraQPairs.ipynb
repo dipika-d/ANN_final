{
  "nbformat": 4,
  "nbformat_minor": 0,
  "metadata": {
    "colab": {
      "name": "QuoraQPairs.ipynb",
      "version": "0.3.2",
      "provenance": [],
      "collapsed_sections": []
    },
    "kernelspec": {
      "name": "python3",
      "display_name": "Python 3"
    }
  },
  "cells": [
    {
      "metadata": {
        "id": "VbqSqWJlJEj5",
        "colab_type": "text"
      },
      "cell_type": "markdown",
      "source": [
        "\n",
        "\n",
        "---\n",
        "\n",
        "\n",
        "![alt text](https://imgcdn.sdk.cn/company/XOaU06okUMO47fGEjlxD.png?imageMogr2/thumbnail/180x) \n",
        "\n",
        "\n",
        "\n",
        "\n",
        "---\n",
        "\n",
        "# Predicting Similarity in Quora Question Pairs\n",
        "\n",
        "\n",
        "\n",
        "---\n",
        "\n"
      ]
    },
    {
      "metadata": {
        "id": "JACCqfbeVAjP",
        "colab_type": "text"
      },
      "cell_type": "markdown",
      "source": [
        "## The Deep Learning Approach Using Siamese Manhattan LSTMs - Mueller & Thyagarajan (2016)\n",
        "\n",
        "\n",
        "---\n",
        "\n"
      ]
    },
    {
      "metadata": {
        "id": "0dihfVhUT24g",
        "colab_type": "text"
      },
      "cell_type": "markdown",
      "source": [
        "##  Libraries and Modules\n",
        "\n",
        "\n",
        "**Importing the required libraries and modules. Keras has an implementation of the MaLSTM that is used here. The choice of optimizer is the AdaDelta optimizer which is commonly used in Natural Language Understanding use cases(Bowman et al 2015, Peng et al 2015, Dong et al 2015). \n",
        "**\n"
      ]
    },
    {
      "metadata": {
        "id": "7AeRcU0NKMvB",
        "colab_type": "code",
        "outputId": "b391e5bf-7a12-4f30-d668-11f92bce1fcc",
        "colab": {
          "base_uri": "https://localhost:8080/",
          "height": 88
        }
      },
      "cell_type": "code",
      "source": [
        "from time import time\n",
        "import pandas as pd\n",
        "import numpy as np\n",
        "from gensim.models import KeyedVectors\n",
        "import re\n",
        "from nltk.corpus import stopwords\n",
        "from sklearn.model_selection import train_test_split\n",
        "import matplotlib.pyplot as plt\n",
        "import seaborn as sns\n",
        "\n",
        "import itertools\n",
        "import datetime\n",
        "\n",
        "from keras.preprocessing.sequence import pad_sequences\n",
        "from keras.models import Model\n",
        "from keras.layers import Input, Embedding, LSTM, Lambda\n",
        "import keras.backend as K\n",
        "from keras.optimizers import Adadelta\n",
        "from keras.callbacks import ModelCheckpoint"
      ],
      "execution_count": 0,
      "outputs": [
        {
          "output_type": "stream",
          "text": [
            "/usr/local/lib/python3.6/dist-packages/smart_open/ssh.py:34: UserWarning: paramiko missing, opening SSH/SCP/SFTP paths will be disabled.  `pip install paramiko` to suppress\n",
            "  warnings.warn('paramiko missing, opening SSH/SCP/SFTP paths will be disabled.  `pip install paramiko` to suppress')\n",
            "Using TensorFlow backend.\n"
          ],
          "name": "stderr"
        }
      ]
    },
    {
      "metadata": {
        "id": "S1IrlOo9Lavp",
        "colab_type": "text"
      },
      "cell_type": "markdown",
      "source": [
        "## Preprocessing the text data\n",
        "\n",
        "\n",
        "**Using the NLTK library to remove stop words from the data set. Using regular expressions to eliminate contractions such as _I'm_, _what's_, etc., format abbreviations, and to clean up the trailing white spaces after removing punctuations, stops and special characters.**\n"
      ]
    },
    {
      "metadata": {
        "id": "54c6JI0BTKjb",
        "colab_type": "code",
        "outputId": "161b2510-1637-4041-9a5a-2b8cd4de6751",
        "colab": {
          "base_uri": "https://localhost:8080/",
          "height": 799
        }
      },
      "cell_type": "code",
      "source": [
        "import nltk\n",
        "nltk.download(\"popular\")\n",
        "\n",
        "stops = set(nltk.corpus.stopwords.words('english'))\n",
        "\n",
        "def text_to_word_list(text):\n",
        "    ''' Pre process and convert texts to a list of words '''\n",
        "    text = str(text)\n",
        "    text = text.lower()\n",
        "\n",
        "    # Clean the text\n",
        "    text = re.sub(r\"[^A-Za-z0-9^,!.\\/'+-=]\", \" \", text)\n",
        "    text = re.sub(r\"what's\", \"what is \", text)\n",
        "    text = re.sub(r\"\\'s\", \" \", text)\n",
        "    text = re.sub(r\"\\'ve\", \" have \", text)\n",
        "    text = re.sub(r\"can't\", \"cannot \", text)\n",
        "    text = re.sub(r\"n't\", \" not \", text)\n",
        "    text = re.sub(r\"i'm\", \"i am \", text)\n",
        "    text = re.sub(r\"\\'re\", \" are \", text)\n",
        "    text = re.sub(r\"\\'d\", \" would \", text)\n",
        "    text = re.sub(r\"\\'ll\", \" will \", text)\n",
        "    text = re.sub(r\",\", \" \", text)\n",
        "    text = re.sub(r\"\\.\", \" \", text)\n",
        "    text = re.sub(r\"!\", \" ! \", text)\n",
        "    text = re.sub(r\"\\/\", \" \", text)\n",
        "    text = re.sub(r\"\\^\", \" ^ \", text)\n",
        "    text = re.sub(r\"\\+\", \" + \", text)\n",
        "    text = re.sub(r\"\\-\", \" - \", text)\n",
        "    text = re.sub(r\"\\=\", \" = \", text)\n",
        "    text = re.sub(r\"'\", \" \", text)\n",
        "    text = re.sub(r\"(\\d+)(k)\", r\"\\g<1>000\", text)\n",
        "    text = re.sub(r\":\", \" : \", text)\n",
        "    text = re.sub(r\" e g \", \" eg \", text)\n",
        "    text = re.sub(r\" b g \", \" bg \", text)\n",
        "    text = re.sub(r\" u s \", \" american \", text)\n",
        "    text = re.sub(r\"\\0s\", \"0\", text)\n",
        "    text = re.sub(r\" 9 11 \", \"911\", text)\n",
        "    text = re.sub(r\"e - mail\", \"email\", text)\n",
        "    text = re.sub(r\"j k\", \"jk\", text)\n",
        "    text = re.sub(r\"\\s{2,}\", \" \", text)\n",
        "    text = text.split()\n",
        "\n",
        "    return text"
      ],
      "execution_count": 0,
      "outputs": [
        {
          "output_type": "stream",
          "text": [
            "[nltk_data] Downloading collection 'popular'\n",
            "[nltk_data]    | \n",
            "[nltk_data]    | Downloading package cmudict to /root/nltk_data...\n",
            "[nltk_data]    |   Unzipping corpora/cmudict.zip.\n",
            "[nltk_data]    | Downloading package gazetteers to /root/nltk_data...\n",
            "[nltk_data]    |   Unzipping corpora/gazetteers.zip.\n",
            "[nltk_data]    | Downloading package genesis to /root/nltk_data...\n",
            "[nltk_data]    |   Unzipping corpora/genesis.zip.\n",
            "[nltk_data]    | Downloading package gutenberg to /root/nltk_data...\n",
            "[nltk_data]    |   Unzipping corpora/gutenberg.zip.\n",
            "[nltk_data]    | Downloading package inaugural to /root/nltk_data...\n",
            "[nltk_data]    |   Unzipping corpora/inaugural.zip.\n",
            "[nltk_data]    | Downloading package movie_reviews to\n",
            "[nltk_data]    |     /root/nltk_data...\n",
            "[nltk_data]    |   Unzipping corpora/movie_reviews.zip.\n",
            "[nltk_data]    | Downloading package names to /root/nltk_data...\n",
            "[nltk_data]    |   Unzipping corpora/names.zip.\n",
            "[nltk_data]    | Downloading package shakespeare to /root/nltk_data...\n",
            "[nltk_data]    |   Unzipping corpora/shakespeare.zip.\n",
            "[nltk_data]    | Downloading package stopwords to /root/nltk_data...\n",
            "[nltk_data]    |   Unzipping corpora/stopwords.zip.\n",
            "[nltk_data]    | Downloading package treebank to /root/nltk_data...\n",
            "[nltk_data]    |   Unzipping corpora/treebank.zip.\n",
            "[nltk_data]    | Downloading package twitter_samples to\n",
            "[nltk_data]    |     /root/nltk_data...\n",
            "[nltk_data]    |   Unzipping corpora/twitter_samples.zip.\n",
            "[nltk_data]    | Downloading package omw to /root/nltk_data...\n",
            "[nltk_data]    |   Unzipping corpora/omw.zip.\n",
            "[nltk_data]    | Downloading package wordnet to /root/nltk_data...\n",
            "[nltk_data]    |   Unzipping corpora/wordnet.zip.\n",
            "[nltk_data]    | Downloading package wordnet_ic to /root/nltk_data...\n",
            "[nltk_data]    |   Unzipping corpora/wordnet_ic.zip.\n",
            "[nltk_data]    | Downloading package words to /root/nltk_data...\n",
            "[nltk_data]    |   Unzipping corpora/words.zip.\n",
            "[nltk_data]    | Downloading package maxent_ne_chunker to\n",
            "[nltk_data]    |     /root/nltk_data...\n",
            "[nltk_data]    |   Unzipping chunkers/maxent_ne_chunker.zip.\n",
            "[nltk_data]    | Downloading package punkt to /root/nltk_data...\n",
            "[nltk_data]    |   Unzipping tokenizers/punkt.zip.\n",
            "[nltk_data]    | Downloading package snowball_data to\n",
            "[nltk_data]    |     /root/nltk_data...\n",
            "[nltk_data]    | Downloading package averaged_perceptron_tagger to\n",
            "[nltk_data]    |     /root/nltk_data...\n",
            "[nltk_data]    |   Unzipping taggers/averaged_perceptron_tagger.zip.\n",
            "[nltk_data]    | \n",
            "[nltk_data]  Done downloading collection popular\n"
          ],
          "name": "stdout"
        }
      ]
    },
    {
      "metadata": {
        "id": "fq977gOfSyzD",
        "colab_type": "text"
      },
      "cell_type": "markdown",
      "source": [
        "## Setting up a completely cloud-based environment for Deep Learning with Google Colab\n",
        "\n",
        "**We can mount Drive files on a Colab project online and move the entire project to the cloud including the input and output data. PyDrive is a Python wrapper and the google.colab method can both be used to do this.**\n"
      ]
    },
    {
      "metadata": {
        "id": "SJtoUewqUnL1",
        "colab_type": "code",
        "outputId": "78580a9a-0902-4677-ba50-f69540b96a94",
        "colab": {
          "base_uri": "https://localhost:8080/",
          "height": 122
        }
      },
      "cell_type": "code",
      "source": [
        "from google.colab import drive\n",
        "drive.mount('/content/drive')"
      ],
      "execution_count": 0,
      "outputs": [
        {
          "output_type": "stream",
          "text": [
            "Go to this URL in a browser: https://accounts.google.com/o/oauth2/auth?client_id=947318989803-6bn6qk8qdgf4n4g3pfee6491hc0brc4i.apps.googleusercontent.com&redirect_uri=urn%3Aietf%3Awg%3Aoauth%3A2.0%3Aoob&scope=email%20https%3A%2F%2Fwww.googleapis.com%2Fauth%2Fdocs.test%20https%3A%2F%2Fwww.googleapis.com%2Fauth%2Fdrive%20https%3A%2F%2Fwww.googleapis.com%2Fauth%2Fdrive.photos.readonly%20https%3A%2F%2Fwww.googleapis.com%2Fauth%2Fpeopleapi.readonly&response_type=code\n",
            "\n",
            "Enter your authorization code:\n",
            "··········\n",
            "Mounted at /content/drive\n"
          ],
          "name": "stdout"
        }
      ]
    },
    {
      "metadata": {
        "id": "cZnKzEN5ZBCV",
        "colab_type": "code",
        "outputId": "d1d725ad-b11a-48c4-85ae-e87408efd8fe",
        "colab": {
          "base_uri": "https://localhost:8080/",
          "height": 374
        }
      },
      "cell_type": "code",
      "source": [
        "!ls \"/content/drive/My Drive\""
      ],
      "execution_count": 0,
      "outputs": [
        {
          "output_type": "stream",
          "text": [
            " ANN_final\n",
            " ANN_Final.gslides\n",
            " Classroom\n",
            "'Colab Notebooks'\n",
            " Comrie6_Notes.gdoc\n",
            " Corpora\n",
            " Dissertation.gdoc\n",
            "'Explara _ Registrations.pdf'\n",
            " homework_dipika.txt\n",
            " LS386_Final_Dipika.gslides\n",
            " NaturalLanguageArithmeticStatementsinTelugu.gdoc\n",
            " NDWNXUW.pdf\n",
            " Psycholinguistics_Spring2019\n",
            " Resume_Parser_adhoc_Dipika.gdoc\n",
            " resume_short.pdf\n",
            " RocketBook_Notes\n",
            " Skill_Development.gsheet\n",
            " Statement_of_Purpose.gdoc\n",
            " Syllabus.gsheet\n",
            " TextGenLSTM.gslides\n",
            "'Untitled presentation.gslides'\n"
          ],
          "name": "stdout"
        }
      ]
    },
    {
      "metadata": {
        "id": "0QYCkj7jVO0N",
        "colab_type": "text"
      },
      "cell_type": "markdown",
      "source": [
        "### Loading the Quora Question Pair data set from Drive."
      ]
    },
    {
      "metadata": {
        "id": "n1zkjTc_eh92",
        "colab_type": "code",
        "colab": {}
      },
      "cell_type": "code",
      "source": [
        "\n",
        "train_df = pd.read_csv('/content/drive/My Drive/ANN_final/quora-question-pairs/train.csv')\n"
      ],
      "execution_count": 0,
      "outputs": []
    },
    {
      "metadata": {
        "id": "T9C-w451gFSj",
        "colab_type": "code",
        "colab": {}
      },
      "cell_type": "code",
      "source": [
        "test_df = pd.read_csv('/content/drive/My Drive/ANN_final/quora-question-pairs/test.csv')"
      ],
      "execution_count": 0,
      "outputs": []
    },
    {
      "metadata": {
        "id": "fANgmhmy4F_V",
        "colab_type": "text"
      },
      "cell_type": "markdown",
      "source": [
        "### Installing and authorizing the PyDrive package."
      ]
    },
    {
      "metadata": {
        "id": "QPUcX66dZFDY",
        "colab_type": "code",
        "outputId": "0c4d35af-e14e-44d5-951d-23ae0c230dcd",
        "colab": {
          "base_uri": "https://localhost:8080/",
          "height": 51
        }
      },
      "cell_type": "code",
      "source": [
        "!pip install -U -q PyDrive"
      ],
      "execution_count": 0,
      "outputs": [
        {
          "output_type": "stream",
          "text": [
            "\u001b[?25l\r\u001b[K    1% |▎                               | 10kB 17.7MB/s eta 0:00:01\r\u001b[K    2% |▋                               | 20kB 1.2MB/s eta 0:00:01\r\u001b[K    3% |█                               | 30kB 1.7MB/s eta 0:00:01\r\u001b[K    4% |█▎                              | 40kB 1.2MB/s eta 0:00:01\r\u001b[K    5% |█▋                              | 51kB 1.4MB/s eta 0:00:01\r\u001b[K    6% |██                              | 61kB 1.7MB/s eta 0:00:01\r\u001b[K    7% |██▎                             | 71kB 2.0MB/s eta 0:00:01\r\u001b[K    8% |██▋                             | 81kB 2.2MB/s eta 0:00:01\r\u001b[K    9% |███                             | 92kB 2.5MB/s eta 0:00:01\r\u001b[K    10% |███▎                            | 102kB 1.9MB/s eta 0:00:01\r\u001b[K    11% |███▋                            | 112kB 1.9MB/s eta 0:00:01\r\u001b[K    12% |████                            | 122kB 2.8MB/s eta 0:00:01\r\u001b[K    13% |████▎                           | 133kB 2.8MB/s eta 0:00:01\r\u001b[K    14% |████▋                           | 143kB 5.3MB/s eta 0:00:01\r\u001b[K    15% |█████                           | 153kB 5.3MB/s eta 0:00:01\r\u001b[K    16% |█████▎                          | 163kB 5.3MB/s eta 0:00:01\r\u001b[K    17% |█████▋                          | 174kB 5.3MB/s eta 0:00:01\r\u001b[K    18% |██████                          | 184kB 5.4MB/s eta 0:00:01\r\u001b[K    19% |██████▎                         | 194kB 5.4MB/s eta 0:00:01\r\u001b[K    20% |██████▋                         | 204kB 37.4MB/s eta 0:00:01\r\u001b[K    21% |███████                         | 215kB 5.8MB/s eta 0:00:01\r\u001b[K    22% |███████▎                        | 225kB 5.7MB/s eta 0:00:01\r\u001b[K    23% |███████▋                        | 235kB 5.8MB/s eta 0:00:01\r\u001b[K    24% |████████                        | 245kB 5.8MB/s eta 0:00:01\r\u001b[K    25% |████████▎                       | 256kB 5.8MB/s eta 0:00:01\r\u001b[K    26% |████████▋                       | 266kB 5.7MB/s eta 0:00:01\r\u001b[K    27% |█████████                       | 276kB 5.7MB/s eta 0:00:01\r\u001b[K    29% |█████████▎                      | 286kB 5.7MB/s eta 0:00:01\r\u001b[K    30% |█████████▋                      | 296kB 5.7MB/s eta 0:00:01\r\u001b[K    31% |██████████                      | 307kB 5.8MB/s eta 0:00:01\r\u001b[K    32% |██████████▎                     | 317kB 41.9MB/s eta 0:00:01\r\u001b[K    33% |██████████▋                     | 327kB 43.9MB/s eta 0:00:01\r\u001b[K    34% |███████████                     | 337kB 45.4MB/s eta 0:00:01\r\u001b[K    35% |███████████▎                    | 348kB 41.7MB/s eta 0:00:01\r\u001b[K    36% |███████████▋                    | 358kB 41.8MB/s eta 0:00:01\r\u001b[K    37% |████████████                    | 368kB 47.7MB/s eta 0:00:01\r\u001b[K    38% |████████████▎                   | 378kB 47.9MB/s eta 0:00:01\r\u001b[K    39% |████████████▋                   | 389kB 48.4MB/s eta 0:00:01\r\u001b[K    40% |█████████████                   | 399kB 6.3MB/s eta 0:00:01\r\u001b[K    41% |█████████████▎                  | 409kB 6.3MB/s eta 0:00:01\r\u001b[K    42% |█████████████▋                  | 419kB 6.3MB/s eta 0:00:01\r\u001b[K    43% |██████████████                  | 430kB 6.2MB/s eta 0:00:01\r\u001b[K    44% |██████████████▎                 | 440kB 6.2MB/s eta 0:00:01\r\u001b[K    45% |██████████████▋                 | 450kB 6.2MB/s eta 0:00:01\r\u001b[K    46% |███████████████                 | 460kB 6.2MB/s eta 0:00:01\r\u001b[K    47% |███████████████▎                | 471kB 6.2MB/s eta 0:00:01\r\u001b[K    48% |███████████████▋                | 481kB 6.3MB/s eta 0:00:01\r\u001b[K    49% |████████████████                | 491kB 6.2MB/s eta 0:00:01\r\u001b[K    50% |████████████████▎               | 501kB 44.3MB/s eta 0:00:01\r\u001b[K    51% |████████████████▋               | 512kB 45.7MB/s eta 0:00:01\r\u001b[K    52% |█████████████████               | 522kB 46.2MB/s eta 0:00:01\r\u001b[K    53% |█████████████████▎              | 532kB 46.5MB/s eta 0:00:01\r\u001b[K    54% |█████████████████▋              | 542kB 5.9MB/s eta 0:00:01\r\u001b[K    55% |██████████████████              | 552kB 5.9MB/s eta 0:00:01\r\u001b[K    57% |██████████████████▎             | 563kB 5.9MB/s eta 0:00:01\r\u001b[K    58% |██████████████████▋             | 573kB 5.9MB/s eta 0:00:01\r\u001b[K    59% |███████████████████             | 583kB 5.9MB/s eta 0:00:01\r\u001b[K    60% |███████████████████▎            | 593kB 5.9MB/s eta 0:00:01\r\u001b[K    61% |███████████████████▋            | 604kB 5.9MB/s eta 0:00:01\r\u001b[K    62% |████████████████████            | 614kB 5.9MB/s eta 0:00:01\r\u001b[K    63% |████████████████████▎           | 624kB 5.9MB/s eta 0:00:01\r\u001b[K    64% |████████████████████▋           | 634kB 5.9MB/s eta 0:00:01\r\u001b[K    65% |█████████████████████           | 645kB 47.3MB/s eta 0:00:01\r\u001b[K    66% |█████████████████████▎          | 655kB 50.1MB/s eta 0:00:01\r\u001b[K    67% |█████████████████████▋          | 665kB 41.0MB/s eta 0:00:01\r\u001b[K    68% |██████████████████████          | 675kB 41.8MB/s eta 0:00:01\r\u001b[K    69% |██████████████████████▎         | 686kB 42.2MB/s eta 0:00:01\r\u001b[K    70% |██████████████████████▋         | 696kB 42.5MB/s eta 0:00:01\r\u001b[K    71% |███████████████████████         | 706kB 42.4MB/s eta 0:00:01\r\u001b[K    72% |███████████████████████▎        | 716kB 42.9MB/s eta 0:00:01\r\u001b[K    73% |███████████████████████▋        | 727kB 42.8MB/s eta 0:00:01\r\u001b[K    74% |████████████████████████        | 737kB 42.3MB/s eta 0:00:01\r\u001b[K    75% |████████████████████████▎       | 747kB 42.6MB/s eta 0:00:01\r\u001b[K    76% |████████████████████████▋       | 757kB 42.0MB/s eta 0:00:01\r\u001b[K    77% |████████████████████████▉       | 768kB 53.8MB/s eta 0:00:01\r\u001b[K    78% |█████████████████████████▏      | 778kB 54.1MB/s eta 0:00:01\r\u001b[K    79% |█████████████████████████▌      | 788kB 53.5MB/s eta 0:00:01\r\u001b[K    80% |█████████████████████████▉      | 798kB 54.5MB/s eta 0:00:01\r\u001b[K    81% |██████████████████████████▏     | 808kB 54.0MB/s eta 0:00:01\r\u001b[K    82% |██████████████████████████▌     | 819kB 53.1MB/s eta 0:00:01\r\u001b[K    83% |██████████████████████████▉     | 829kB 53.5MB/s eta 0:00:01\r\u001b[K    85% |███████████████████████████▏    | 839kB 53.2MB/s eta 0:00:01\r\u001b[K    86% |███████████████████████████▌    | 849kB 53.8MB/s eta 0:00:01\r\u001b[K    87% |███████████████████████████▉    | 860kB 47.8MB/s eta 0:00:01\r\u001b[K    88% |████████████████████████████▏   | 870kB 46.8MB/s eta 0:00:01\r\u001b[K    89% |████████████████████████████▌   | 880kB 47.4MB/s eta 0:00:01\r\u001b[K    90% |████████████████████████████▉   | 890kB 47.5MB/s eta 0:00:01\r\u001b[K    91% |█████████████████████████████▏  | 901kB 46.6MB/s eta 0:00:01\r\u001b[K    92% |█████████████████████████████▌  | 911kB 47.4MB/s eta 0:00:01\r\u001b[K    93% |█████████████████████████████▉  | 921kB 47.9MB/s eta 0:00:01\r\u001b[K    94% |██████████████████████████████▏ | 931kB 48.4MB/s eta 0:00:01\r\u001b[K    95% |██████████████████████████████▌ | 942kB 49.1MB/s eta 0:00:01\r\u001b[K    96% |██████████████████████████████▉ | 952kB 48.3MB/s eta 0:00:01\r\u001b[K    97% |███████████████████████████████▏| 962kB 55.9MB/s eta 0:00:01\r\u001b[K    98% |███████████████████████████████▌| 972kB 57.2MB/s eta 0:00:01\r\u001b[K    99% |███████████████████████████████▉| 983kB 56.5MB/s eta 0:00:01\r\u001b[K    100% |████████████████████████████████| 993kB 19.2MB/s \n",
            "\u001b[?25h  Building wheel for PyDrive (setup.py) ... \u001b[?25ldone\n",
            "\u001b[?25h"
          ],
          "name": "stdout"
        }
      ]
    },
    {
      "metadata": {
        "id": "lPrsCr_La_Lh",
        "colab_type": "code",
        "colab": {}
      },
      "cell_type": "code",
      "source": [
        "import os\n",
        "from pydrive.auth import GoogleAuth\n",
        "from pydrive.drive import GoogleDrive\n",
        "from google.colab import auth\n",
        "from oauth2client.client import GoogleCredentials\n",
        "\n",
        "\n",
        "auth.authenticate_user()\n",
        "gauth = GoogleAuth()\n",
        "gauth.credentials = GoogleCredentials.get_application_default()\n",
        "drive = GoogleDrive(gauth)\n"
      ],
      "execution_count": 0,
      "outputs": []
    },
    {
      "metadata": {
        "id": "vkBu2rQM4VY2",
        "colab_type": "text"
      },
      "cell_type": "markdown",
      "source": [
        "### Loading the pretrained Google Word2Vec Model from an AWS cloud container."
      ]
    },
    {
      "metadata": {
        "id": "Y_y9fjSybLfJ",
        "colab_type": "code",
        "outputId": "7e067200-6304-4e60-b8f7-cd3721c6501b",
        "colab": {
          "base_uri": "https://localhost:8080/",
          "height": 204
        }
      },
      "cell_type": "code",
      "source": [
        "!wget -P /root/input/ -c \"https://s3.amazonaws.com/dl4j-distribution/GoogleNews-vectors-negative300.bin.gz\""
      ],
      "execution_count": 0,
      "outputs": [
        {
          "output_type": "stream",
          "text": [
            "--2019-04-23 19:30:08--  https://s3.amazonaws.com/dl4j-distribution/GoogleNews-vectors-negative300.bin.gz\n",
            "Resolving s3.amazonaws.com (s3.amazonaws.com)... 52.216.9.245\n",
            "Connecting to s3.amazonaws.com (s3.amazonaws.com)|52.216.9.245|:443... connected.\n",
            "HTTP request sent, awaiting response... 200 OK\n",
            "Length: 1647046227 (1.5G) [application/x-gzip]\n",
            "Saving to: ‘/root/input/GoogleNews-vectors-negative300.bin.gz’\n",
            "\n",
            "GoogleNews-vectors- 100%[===================>]   1.53G  49.5MB/s    in 28s     \n",
            "\n",
            "2019-04-23 19:30:36 (57.1 MB/s) - ‘/root/input/GoogleNews-vectors-negative300.bin.gz’ saved [1647046227/1647046227]\n",
            "\n"
          ],
          "name": "stdout"
        }
      ]
    },
    {
      "metadata": {
        "id": "X40Q5T7J4hDh",
        "colab_type": "text"
      },
      "cell_type": "markdown",
      "source": [
        "## Word2Vec\n",
        "\n",
        "**The Quora Question Pairs data set is quite large. The train set contains 2.35 million questions and the test set contains 400,000 questions. In order to make a robust and generalizable model on such big data we are using the pretrained model from Google which contains 1.5 gigabytes of pretrained vector representations.**"
      ]
    },
    {
      "metadata": {
        "id": "GcJ8rbBfdg9X",
        "colab_type": "code",
        "colab": {}
      },
      "cell_type": "code",
      "source": [
        "EMBEDDING_FILE = '/root/input/GoogleNews-vectors-negative300.bin.gz' # from above\n",
        "word2vec = KeyedVectors.load_word2vec_format(EMBEDDING_FILE, binary=True)"
      ],
      "execution_count": 0,
      "outputs": []
    },
    {
      "metadata": {
        "id": "33IYzlUl5xcA",
        "colab_type": "text"
      },
      "cell_type": "markdown",
      "source": [
        "### The word2vec variable contains the Google word embeddings."
      ]
    },
    {
      "metadata": {
        "id": "reBK-N-4d0sM",
        "colab_type": "code",
        "outputId": "cccde141-850f-4057-81ee-74a2a8a0f32f",
        "colab": {
          "base_uri": "https://localhost:8080/",
          "height": 34
        }
      },
      "cell_type": "code",
      "source": [
        "# test\n",
        "\n",
        "word2vec['dog'].shape"
      ],
      "execution_count": 0,
      "outputs": [
        {
          "output_type": "execute_result",
          "data": {
            "text/plain": [
              "(300,)"
            ]
          },
          "metadata": {
            "tags": []
          },
          "execution_count": 24
        }
      ]
    },
    {
      "metadata": {
        "id": "rY0GxIm16Xt8",
        "colab_type": "text"
      },
      "cell_type": "markdown",
      "source": [
        "### The vocabulary variable is a dictionary where the keys are strings and the values are the corresponding indices (a unique id which is an int).\n"
      ]
    },
    {
      "metadata": {
        "id": "pfK1yBk3eQGc",
        "colab_type": "code",
        "colab": {}
      },
      "cell_type": "code",
      "source": [
        "vocabulary = dict()\n",
        "inverse_vocabulary = ['<unk>']"
      ],
      "execution_count": 0,
      "outputs": []
    },
    {
      "metadata": {
        "id": "ZmTHkx_X6qfq",
        "colab_type": "text"
      },
      "cell_type": "markdown",
      "source": [
        "### The question_cols variable is a dataframe which has both the question columns."
      ]
    },
    {
      "metadata": {
        "id": "or7icPeOTTC4",
        "colab_type": "code",
        "colab": {}
      },
      "cell_type": "code",
      "source": [
        "questions_cols = ['question1', 'question2']\n"
      ],
      "execution_count": 0,
      "outputs": []
    },
    {
      "metadata": {
        "id": "Kp_t03o066x1",
        "colab_type": "text"
      },
      "cell_type": "markdown",
      "source": [
        "### In the following code block, we are iterating over the questions in each column and appending them to the inverse_vocanulary variable if they are unfamiliar words."
      ]
    },
    {
      "metadata": {
        "id": "Js17wW0YgboO",
        "colab_type": "code",
        "outputId": "88e23231-aec0-4624-9294-133a68f8e663",
        "colab": {
          "base_uri": "https://localhost:8080/",
          "height": 54
        }
      },
      "cell_type": "code",
      "source": [
        "# Iterate over the questions only of both training and test datasets\n",
        "for dataset in [train_df, test_df]:\n",
        "    for index, row in dataset.iterrows():\n",
        "\n",
        "        # Iterate through the text of both questions of the row\n",
        "        for question in questions_cols:\n",
        "\n",
        "            q2n = []  # q2n -> question numbers representation\n",
        "            for word in text_to_word_list(row[question]):\n",
        "\n",
        "                # Check for unwanted words\n",
        "                if word in stops and word not in word2vec.vocab:\n",
        "                    continue\n",
        "\n",
        "                if word not in vocabulary:\n",
        "                    vocabulary[word] = len(inverse_vocabulary)\n",
        "                    q2n.append(len(inverse_vocabulary))\n",
        "                    inverse_vocabulary.append(word)\n",
        "                else:\n",
        "                    q2n.append(vocabulary[word])\n",
        "\n",
        "            # Replace questions as word to question as number representation\n",
        "            dataset.set_value(index, question, q2n)"
      ],
      "execution_count": 0,
      "outputs": [
        {
          "output_type": "stream",
          "text": [
            "/usr/local/lib/python3.6/dist-packages/ipykernel_launcher.py:22: FutureWarning: set_value is deprecated and will be removed in a future release. Please use .at[] or .iat[] accessors instead\n"
          ],
          "name": "stderr"
        }
      ]
    },
    {
      "metadata": {
        "id": "Sj_JQfvG7m87",
        "colab_type": "text"
      },
      "cell_type": "markdown",
      "source": [
        "## Creating the Embedding Matrix"
      ]
    },
    {
      "metadata": {
        "id": "AF5Hc3mq7t9s",
        "colab_type": "text"
      },
      "cell_type": "markdown",
      "source": [
        "### The below code matches each word in the question_cols variable to its corresponding word embedding from the word2vec model and assigns the first index of each embedding to zero. The words that are recognized as _unks_ are assigned a random embedding, however, it will not affect the accuracy of our model because the _unks_ are less than 0.5% of the dataset."
      ]
    },
    {
      "metadata": {
        "id": "K7D0FZi6gkLI",
        "colab_type": "code",
        "colab": {}
      },
      "cell_type": "code",
      "source": [
        "embedding_dim = 300\n",
        "embeddings = 1 * np.random.randn(len(vocabulary) + 1, embedding_dim)  # This will be the embedding matrix\n",
        "embeddings[0] = 0  # So that the padding will be ignored"
      ],
      "execution_count": 0,
      "outputs": []
    },
    {
      "metadata": {
        "id": "Ou1_a7iJhHEy",
        "colab_type": "code",
        "colab": {}
      },
      "cell_type": "code",
      "source": [
        "# Build the embedding matrix\n",
        "for word, index in vocabulary.items():\n",
        "    if word in word2vec.vocab:\n",
        "        embeddings[index] = word2vec.word_vec(word)\n",
        "\n",
        "del word2vec"
      ],
      "execution_count": 0,
      "outputs": []
    },
    {
      "metadata": {
        "id": "kmK4SC4n8czj",
        "colab_type": "text"
      },
      "cell_type": "markdown",
      "source": [
        "## MaLSTM Data Preprocessing :\n",
        "\n",
        "**Due to the architecure of the MaLSTM, we need to split the train and test data sets differently than we do in regular ML and DL models. We split the input into left and right components and we pad the sequences with zeroes.**\n",
        "\n",
        "\n",
        "**We are creating a validation set that contains 40,000 instances.**"
      ]
    },
    {
      "metadata": {
        "id": "GS2jcoj3hM_x",
        "colab_type": "code",
        "colab": {}
      },
      "cell_type": "code",
      "source": [
        "max_seq_length = max(train_df.question1.map(lambda x: len(x)).max(),\n",
        "                     train_df.question2.map(lambda x: len(x)).max(),\n",
        "                     test_df.question1.map(lambda x: len(x)).max(),\n",
        "                     test_df.question2.map(lambda x: len(x)).max())"
      ],
      "execution_count": 0,
      "outputs": []
    },
    {
      "metadata": {
        "id": "73kRzf04hRJ1",
        "colab_type": "code",
        "colab": {}
      },
      "cell_type": "code",
      "source": [
        "# Split to train validation\n",
        "validation_size = 40000\n",
        "training_size = len(train_df) - validation_size\n",
        "\n",
        "X = train_df[questions_cols]\n",
        "Y = train_df['is_duplicate']\n",
        "\n",
        "X_train, X_validation, Y_train, Y_validation = train_test_split(X, Y, test_size=validation_size)\n"
      ],
      "execution_count": 0,
      "outputs": []
    },
    {
      "metadata": {
        "id": "ox2M-mDqhVb5",
        "colab_type": "code",
        "colab": {}
      },
      "cell_type": "code",
      "source": [
        "# Split to dicts\n",
        "X_train = {'left': X_train.question1, 'right': X_train.question2}\n",
        "X_validation = {'left': X_validation.question1, 'right': X_validation.question2}\n",
        "X_test = {'left': test_df.question1, 'right': test_df.question2}\n",
        "\n",
        "# Convert labels to their numpy representations\n",
        "Y_train = Y_train.values\n",
        "Y_validation = Y_validation.values\n",
        "\n",
        "# Zero padding\n",
        "for dataset, side in itertools.product([X_train, X_validation], ['left', 'right']):\n",
        "    dataset[side] = pad_sequences(dataset[side], maxlen=max_seq_length)\n",
        "\n",
        "# Make sure everything is ok\n",
        "assert X_train['left'].shape == X_train['right'].shape\n",
        "assert len(X_train['left']) == len(Y_train)\n"
      ],
      "execution_count": 0,
      "outputs": []
    },
    {
      "metadata": {
        "id": "ECDC1q6G-lm6",
        "colab_type": "text"
      },
      "cell_type": "markdown",
      "source": [
        "## Model Parameters\n",
        "\n",
        "**The Siamese Recurrent Architecture works like two LSTMs that are mirroring each other and we need to merge them at sometime. Keras has built-in methods such as the _Merge_ layer that will help us merge the two MaLSTMs that we trained in order to see if there are duplicates in each pair and if so, to what extent.**"
      ]
    },
    {
      "metadata": {
        "id": "p8_0tOxWAVEF",
        "colab_type": "text"
      },
      "cell_type": "markdown",
      "source": [
        "**We are training for 10 epochs with a batch-size of 128. Kaggle users who have access to powerful local GPUs such as the GTX 1060 and up, have trained this model for 25 epochs or more without much improvement in accuracy after 10 epochs. The model peaks at 7-8 epochs unlike other DL models which perform better upon training for several tens of epochs.**"
      ]
    },
    {
      "metadata": {
        "id": "k2ZVc4FqhZ4d",
        "colab_type": "code",
        "colab": {}
      },
      "cell_type": "code",
      "source": [
        "# Model variables\n",
        "n_hidden = 50\n",
        "gradient_clipping_norm = 1.25\n",
        "batch_size = 128\n",
        "n_epoch = 10\n",
        "\n",
        "def exponent_neg_manhattan_distance(left, right):\n",
        "    ''' Helper function for the similarity estimate of the LSTMs outputs'''\n",
        "    return K.exp(-K.sum(K.abs(left-right), axis=1, keepdims=True))\n",
        "\n"
      ],
      "execution_count": 0,
      "outputs": []
    },
    {
      "metadata": {
        "id": "KW9LKSsLhlH5",
        "colab_type": "code",
        "outputId": "76f151dc-2894-4947-beea-788e85bc6a98",
        "colab": {
          "base_uri": "https://localhost:8080/",
          "height": 88
        }
      },
      "cell_type": "code",
      "source": [
        "# The visible layer\n",
        "left_input = Input(shape=(max_seq_length,), dtype='int32')\n",
        "right_input = Input(shape=(max_seq_length,), dtype='int32')\n",
        "\n",
        "embedding_layer = Embedding(len(embeddings), embedding_dim, weights=[embeddings], input_length=max_seq_length, trainable=False)\n",
        "\n",
        "# Embedded version of the inputs\n",
        "encoded_left = embedding_layer(left_input)\n",
        "encoded_right = embedding_layer(right_input)\n",
        "\n",
        "# Since this is a siamese network, both sides share the same LSTM\n",
        "shared_lstm = LSTM(n_hidden)\n",
        "\n",
        "left_output = shared_lstm(encoded_left)\n",
        "right_output = shared_lstm(encoded_right)\n",
        "\n",
        "# Calculates the distance as defined by the MaLSTM model\n",
        "malstm_distance = Lambda(function=lambda x: exponent_neg_manhattan_distance(x[0], x[1]),output_shape=lambda x: (x[0][0], 1))([left_output, right_output])\n",
        "\n",
        "# Pack it all up into a model\n",
        "malstm = Model([left_input, right_input], [malstm_distance])\n",
        "\n",
        "# Adadelta optimizer, with gradient clipping by norm\n",
        "optimizer = Adadelta(clipnorm=gradient_clipping_norm)\n",
        "\n",
        "malstm.compile(loss='mean_squared_error', optimizer=optimizer, metrics=['accuracy'])"
      ],
      "execution_count": 0,
      "outputs": [
        {
          "output_type": "stream",
          "text": [
            "WARNING:tensorflow:From /usr/local/lib/python3.6/dist-packages/tensorflow/python/framework/op_def_library.py:263: colocate_with (from tensorflow.python.framework.ops) is deprecated and will be removed in a future version.\n",
            "Instructions for updating:\n",
            "Colocations handled automatically by placer.\n"
          ],
          "name": "stdout"
        }
      ]
    },
    {
      "metadata": {
        "id": "bGgq7O39A19t",
        "colab_type": "text"
      },
      "cell_type": "markdown",
      "source": [
        "## Training :\n",
        "\n",
        "**The model was trained for 10 epochs which took rouchly 9 hours on the K80 cloud GPU with hosted runtime on Google Colab. The loss function steadily minimised in the first few epochs and the accuracy shot as you can see below, however, after epoch 7/10 the rate of change of cost function as well as accuracy reduced significantly.**"
      ]
    },
    {
      "metadata": {
        "id": "6WH_sWY9kgK9",
        "colab_type": "code",
        "outputId": "eaf11074-420e-466e-a853-eafd0ab3ea51",
        "colab": {
          "base_uri": "https://localhost:8080/",
          "height": 442
        }
      },
      "cell_type": "code",
      "source": [
        "# Start training\n",
        "training_start_time = time()\n",
        "\n",
        "malstm_trained = malstm.fit([X_train['left'], X_train['right']], Y_train, batch_size=batch_size, nb_epoch=n_epoch,\n",
        "                            validation_data=([X_validation['left'], X_validation['right']], Y_validation))\n",
        "\n",
        "print(\"Training time finished.\\n{} epochs in {}\".format(n_epoch, datetime.timedelta(seconds=time()-training_start_time)))\n"
      ],
      "execution_count": 0,
      "outputs": [
        {
          "output_type": "stream",
          "text": [
            "/usr/local/lib/python3.6/dist-packages/ipykernel_launcher.py:4: UserWarning: The `nb_epoch` argument in `fit` has been renamed `epochs`.\n",
            "  after removing the cwd from sys.path.\n"
          ],
          "name": "stderr"
        },
        {
          "output_type": "stream",
          "text": [
            "Train on 364290 samples, validate on 40000 samples\n",
            "Epoch 1/10\n",
            "364290/364290 [==============================] - 3265s 9ms/step - loss: 0.1723 - acc: 0.7503 - val_loss: 0.1670 - val_acc: 0.7659\n",
            "Epoch 2/10\n",
            "364290/364290 [==============================] - 3273s 9ms/step - loss: 0.1587 - acc: 0.7754 - val_loss: 0.1579 - val_acc: 0.7795\n",
            "Epoch 3/10\n",
            "364290/364290 [==============================] - 3275s 9ms/step - loss: 0.1517 - acc: 0.7874 - val_loss: 0.1508 - val_acc: 0.7843\n",
            "Epoch 4/10\n",
            "364290/364290 [==============================] - 3260s 9ms/step - loss: 0.1471 - acc: 0.7953 - val_loss: 0.1508 - val_acc: 0.7942\n",
            "Epoch 5/10\n",
            "364290/364290 [==============================] - 3267s 9ms/step - loss: 0.1438 - acc: 0.8002 - val_loss: 0.1512 - val_acc: 0.7792\n",
            "Epoch 6/10\n",
            "364290/364290 [==============================] - 3252s 9ms/step - loss: 0.1414 - acc: 0.8045 - val_loss: 0.1440 - val_acc: 0.8006\n",
            "Epoch 7/10\n",
            "364290/364290 [==============================] - 3261s 9ms/step - loss: 0.1394 - acc: 0.8070 - val_loss: 0.1422 - val_acc: 0.8033\n",
            "Epoch 8/10\n",
            "364290/364290 [==============================] - 3259s 9ms/step - loss: 0.1378 - acc: 0.8094 - val_loss: 0.1414 - val_acc: 0.8022\n",
            "Epoch 9/10\n",
            "364290/364290 [==============================] - 3273s 9ms/step - loss: 0.1362 - acc: 0.8116 - val_loss: 0.1429 - val_acc: 0.7933\n",
            "Epoch 10/10\n",
            "364290/364290 [==============================] - 3275s 9ms/step - loss: 0.1349 - acc: 0.8139 - val_loss: 0.1387 - val_acc: 0.8044\n",
            "Training time finished.\n",
            "10 epochs in 9:04:20.057094\n"
          ],
          "name": "stdout"
        }
      ]
    },
    {
      "metadata": {
        "id": "OMyQr7fzHDL_",
        "colab_type": "text"
      },
      "cell_type": "markdown",
      "source": [
        "## Plotting the results :\n",
        "\n",
        "**Below are the plots for the accuracy and loss function progress through the training process.**"
      ]
    },
    {
      "metadata": {
        "id": "6kdazdmoklol",
        "colab_type": "code",
        "outputId": "287ae9e9-24b6-441e-ee96-c45e0f302e6c",
        "colab": {
          "base_uri": "https://localhost:8080/",
          "height": 573
        }
      },
      "cell_type": "code",
      "source": [
        "# Plot accuracy\n",
        "plt.plot(malstm_trained.history['acc'])\n",
        "plt.plot(malstm_trained.history['val_acc'])\n",
        "plt.title('Model Accuracy')\n",
        "plt.ylabel('Accuracy')\n",
        "plt.xlabel('Epoch')\n",
        "plt.legend(['Train', 'Validation'], loc='upper left')\n",
        "plt.show()\n",
        "\n",
        "# Plot loss\n",
        "plt.plot(malstm_trained.history['loss'])\n",
        "plt.plot(malstm_trained.history['val_loss'])\n",
        "plt.title('Model Loss')\n",
        "plt.ylabel('Loss')\n",
        "plt.xlabel('Epoch')\n",
        "plt.legend(['Train', 'Validation'], loc='upper right')\n",
        "plt.show()"
      ],
      "execution_count": 0,
      "outputs": [
        {
          "output_type": "display_data",
          "data": {
            "image/png": "[encoded data removed]",
            "text/plain": [
              "<Figure size 432x288 with 1 Axes>"
            ]
          },
          "metadata": {
            "tags": []
          }
        },
        {
          "output_type": "display_data",
          "data": {
            "image/png": "[encoded data removed]",
            "text/plain": [
              "<Figure size 432x288 with 1 Axes>"
            ]
          },
          "metadata": {
            "tags": []
          }
        }
      ]
    },
    {
      "metadata": {
        "id": "B52ElLKwHNKw",
        "colab_type": "text"
      },
      "cell_type": "markdown",
      "source": [
        "## Saving and reusing :\n",
        "\n",
        "**We can save the model directly to Goodle Drive in JSON and H5 formats so we can reload the training weights and deploy the model if we wish to.**"
      ]
    },
    {
      "metadata": {
        "id": "BOXU-qN4pZyW",
        "colab_type": "code",
        "colab": {}
      },
      "cell_type": "code",
      "source": [
        "# serialize model to JSON\n",
        "model_json = malstm_trained.model.to_json()\n",
        "with open(\"/content/drive/My Drive/ANN_final/QQP_model.json\", \"w\") as json_file:\n",
        "    json_file.write(model_json)"
      ],
      "execution_count": 0,
      "outputs": []
    },
    {
      "metadata": {
        "id": "2iWYN0ghnvYN",
        "colab_type": "code",
        "outputId": "e33bbea2-9bd7-42e8-9731-5d9d8a88eb1a",
        "colab": {
          "base_uri": "https://localhost:8080/",
          "height": 34
        }
      },
      "cell_type": "code",
      "source": [
        "# serialize weights to HDF5\n",
        "malstm_trained.model.save_weights(\"/content/drive/My Drive/ANN_final/QQP_model.h5\")\n",
        "print(\"Saved model to disk\")"
      ],
      "execution_count": 0,
      "outputs": [
        {
          "output_type": "stream",
          "text": [
            "Saved model to disk\n"
          ],
          "name": "stdout"
        }
      ]
    }
  ]
}